{
 "cells": [
  {
   "cell_type": "code",
   "execution_count": null,
   "metadata": {
    "_cell_guid": "5bdeba32-1d0d-4f73-9f5c-90c0bb1b9fed",
    "_uuid": "8e74d7e0-96eb-4241-b3f2-fae4d6bb6dbb",
    "execution": {
     "iopub.execute_input": "2022-05-22T18:44:00.461395Z",
     "iopub.status.busy": "2022-05-22T18:44:00.460397Z",
     "iopub.status.idle": "2022-05-22T18:44:14.577688Z",
     "shell.execute_reply": "2022-05-22T18:44:14.575710Z",
     "shell.execute_reply.started": "2022-05-22T18:44:00.461241Z"
    },
    "jupyter": {
     "outputs_hidden": false
    }
   },
   "outputs": [],
   "source": [
    "%%time\n",
    "# Update the dataset incase it has changed.\n",
    "! cd ../input; ./update-dataset.sh >/dev/null\n",
    "\n",
    "# Clean the input directory structure.\n",
    "! rm -rf cmp23 preprocessed features\n",
    "! mkdir -p {cmp23,preprocessed}/{fe,}male features\n",
    "\n",
    "# Self explanatory.\n",
    "! cp ../input/cmp23-handwritten-males-vs-females/Males/Males/* cmp23/male\n",
    "! cp ../input/cmp23-handwritten-males-vs-females/Females/Females/* cmp23/female\n",
    "\n",
    "# Rename all the dataset files to simple names.\n",
    "! function rename { for path in \"$@\"; do cd $path; c=1; for file in $(/bin/ls); do /bin/mv $file $(printf \"%03d\" $c).jpg; let c=c+1; done; cd - >/dev/null; done; }; rename cmp23/{fe,}male\n",
    "\n",
    "# Check the directory tree.\n",
    "! tree --filelimit 100"
   ]
  },
  {
   "cell_type": "code",
   "execution_count": 1,
   "metadata": {
    "execution": {
     "iopub.execute_input": "2022-05-22T18:44:14.582919Z",
     "iopub.status.busy": "2022-05-22T18:44:14.581160Z",
     "iopub.status.idle": "2022-05-22T18:44:16.998760Z",
     "shell.execute_reply": "2022-05-22T18:44:16.997712Z",
     "shell.execute_reply.started": "2022-05-22T18:44:14.582814Z"
    }
   },
   "outputs": [],
   "source": [
    "# Imports.\n",
    "from utils import *\n",
    "from helpers import *\n",
    "from processing import *\n",
    "from features import *\n",
    "#from model import *"
   ]
  },
  {
   "cell_type": "code",
   "execution_count": 2,
   "metadata": {
    "execution": {
     "iopub.execute_input": "2022-05-22T18:44:17.026451Z",
     "iopub.status.busy": "2022-05-22T18:44:17.025507Z",
     "iopub.status.idle": "2022-05-22T18:44:17.050850Z",
     "shell.execute_reply": "2022-05-22T18:44:17.049170Z",
     "shell.execute_reply.started": "2022-05-22T18:44:17.026394Z"
    }
   },
   "outputs": [],
   "source": [
    "# Constants.\n",
    "ALL_IMAGES = get_all_images()\n",
    "LABELS = load_labels()\n",
    "\n",
    "TST_IMAGES = [\n",
    "    cmp('female', 9),\n",
    "    cmp('male', 67),\n",
    "    cmp('male', 89),\n",
    "    cmp('female', 3),\n",
    "    cmp('male', 12),\n",
    "    cmp('female', 4),\n",
    "] # Some images' paths used oberservation."
   ]
  },
  {
   "cell_type": "code",
   "execution_count": null,
   "metadata": {
    "execution": {
     "iopub.execute_input": "2022-05-22T18:44:17.054182Z",
     "iopub.status.busy": "2022-05-22T18:44:17.053681Z",
     "iopub.status.idle": "2022-05-22T18:44:22.660408Z",
     "shell.execute_reply": "2022-05-22T18:44:22.658919Z",
     "shell.execute_reply.started": "2022-05-22T18:44:17.054136Z"
    }
   },
   "outputs": [],
   "source": [
    "# Preview the test images before preprocessing them.\n",
    "preview(TST_IMAGES)"
   ]
  },
  {
   "cell_type": "code",
   "execution_count": null,
   "metadata": {
    "execution": {
     "iopub.execute_input": "2022-05-22T18:44:22.663022Z",
     "iopub.status.busy": "2022-05-22T18:44:22.662210Z",
     "iopub.status.idle": "2022-05-22T18:48:53.536093Z",
     "shell.execute_reply": "2022-05-22T18:48:53.534812Z",
     "shell.execute_reply.started": "2022-05-22T18:44:22.662948Z"
    }
   },
   "outputs": [],
   "source": [
    "%%time\n",
    "# Preprocess the images and write them to the disk.\n",
    "for image_path in ALL_IMAGES:\n",
    "    imwrite(pre(image_path), preprocess(image_path))"
   ]
  },
  {
   "cell_type": "code",
   "execution_count": null,
   "metadata": {
    "execution": {
     "iopub.execute_input": "2022-05-22T18:48:53.540067Z",
     "iopub.status.busy": "2022-05-22T18:48:53.539014Z",
     "iopub.status.idle": "2022-05-22T18:48:56.207708Z",
     "shell.execute_reply": "2022-05-22T18:48:56.206154Z",
     "shell.execute_reply.started": "2022-05-22T18:48:53.540001Z"
    }
   },
   "outputs": [],
   "source": [
    "# Preview the test images after preprocessing.\n",
    "preview(map(pre, TST_IMAGES))"
   ]
  },
  {
   "cell_type": "code",
   "execution_count": null,
   "metadata": {
    "execution": {
     "iopub.execute_input": "2022-05-22T18:48:56.229900Z",
     "iopub.status.busy": "2022-05-22T18:48:56.229343Z",
     "iopub.status.idle": "2022-05-22T18:49:17.127200Z",
     "shell.execute_reply": "2022-05-22T18:49:17.126363Z",
     "shell.execute_reply.started": "2022-05-22T18:48:56.229846Z"
    }
   },
   "outputs": [],
   "source": [
    "%%time\n",
    "# GLCM features.\n",
    "cmp_features = []\n",
    "\n",
    "for image_path in map(pre, ALL_IMAGES):\n",
    "    cmp_features.append(glcm(imread_bw(image_path)))\n",
    "\n",
    "save_feature('glcm', cmp_features)"
   ]
  },
  {
   "cell_type": "code",
   "execution_count": null,
   "metadata": {
    "execution": {
     "iopub.execute_input": "2022-05-22T18:49:17.128761Z",
     "iopub.status.busy": "2022-05-22T18:49:17.128480Z",
     "iopub.status.idle": "2022-05-22T18:49:19.630878Z",
     "shell.execute_reply": "2022-05-22T18:49:19.629966Z",
     "shell.execute_reply.started": "2022-05-22T18:49:17.128728Z"
    }
   },
   "outputs": [],
   "source": [
    "features = load_feature('glcm')\n",
    "svm_test(features, LABELS, C=10, kernel='rbf')"
   ]
  },
  {
   "cell_type": "code",
   "execution_count": null,
   "metadata": {
    "execution": {
     "iopub.execute_input": "2022-05-22T19:01:10.841488Z",
     "iopub.status.busy": "2022-05-22T19:01:10.841193Z"
    }
   },
   "outputs": [],
   "source": [
    "%%time\n",
    "# LBP features.\n",
    "cmp_features = []\n",
    "\n",
    "for image_path in map(pre, ALL_IMAGES):\n",
    "    cmp_features.append(lbp(imread_bw(image_path)))\n",
    "\n",
    "save_feature('lbp', cmp_features)"
   ]
  },
  {
   "cell_type": "code",
   "execution_count": null,
   "metadata": {},
   "outputs": [],
   "source": [
    "features = load_feature('lbp')\n",
    "svm_test(features, LABELS, C=10, kernel='rbf')"
   ]
  },
  {
   "cell_type": "code",
   "execution_count": null,
   "metadata": {
    "execution": {
     "iopub.execute_input": "2022-05-22T18:56:37.810493Z",
     "iopub.status.busy": "2022-05-22T18:56:37.810246Z",
     "iopub.status.idle": "2022-05-22T19:00:55.863824Z",
     "shell.execute_reply": "2022-05-22T19:00:55.863015Z",
     "shell.execute_reply.started": "2022-05-22T18:56:37.810464Z"
    }
   },
   "outputs": [],
   "source": [
    "%%time\n",
    "# HoG features.\n",
    "cmp_features = []\n",
    "\n",
    "# Get the best resize ratio.\n",
    "resize_w, resize_h = get_avg_image_shape()\n",
    "# Upscale the resize parameters so not to lose any resolution.\n",
    "resize_factor = int(resize_w * 1.15), int(resize_h * 1.15)\n",
    "\n",
    "for image_path in map(pre, ALL_IMAGES):\n",
    "    cmp_features.append(hog(imread_bw(image_path), resize_factor))\n",
    "\n",
    "# Run PCA first to shrink the number of features.\n",
    "cmp_features = pca(cmp_features)\n",
    "save_feature('hog', cmp_features)"
   ]
  },
  {
   "cell_type": "code",
   "execution_count": null,
   "metadata": {
    "execution": {
     "iopub.execute_input": "2022-05-22T19:00:55.865450Z",
     "iopub.status.busy": "2022-05-22T19:00:55.865071Z",
     "iopub.status.idle": "2022-05-22T19:01:10.838057Z",
     "shell.execute_reply": "2022-05-22T19:01:10.836307Z",
     "shell.execute_reply.started": "2022-05-22T19:00:55.865420Z"
    }
   },
   "outputs": [],
   "source": [
    "features = load_feature('hog')\n",
    "svm_test(features, LABELS, C=10, kernel='rbf')"
   ]
  },
  {
   "cell_type": "code",
   "execution_count": null,
   "metadata": {},
   "outputs": [],
   "source": [
    "%%time\n",
    "# Chain Code features.\n",
    "cmp_features = []\n",
    "\n",
    "for image_path in map(pre, ALL_IMAGES):\n",
    "    cmp_features.append(chain_codes_and_pairs(imread(image_path)))\n",
    "\n",
    "save_feature('chain_codes_and_pairs', cmp_features)"
   ]
  },
  {
   "cell_type": "code",
   "execution_count": null,
   "metadata": {},
   "outputs": [],
   "source": [
    "features = load_feature('chain_codes_and_pairs')\n",
    "svm_test(features, LABELS, C=10, kernel='rbf')"
   ]
  },
  {
   "cell_type": "code",
   "execution_count": null,
   "metadata": {},
   "outputs": [],
   "source": [
    "%%time\n",
    "# Distribution of segment slopes and distribution of curvature features.\n",
    "cmp_features = []\n",
    "\n",
    "for image_path in map(pre, ALL_IMAGES):\n",
    "    cmp_features.append(slopes_and_curves(imread(image_path)))\n",
    "\n",
    "save_feature('slopes_and_curves', cmp_features)"
   ]
  },
  {
   "cell_type": "code",
   "execution_count": null,
   "metadata": {},
   "outputs": [],
   "source": [
    "features = load_feature('slopes_and_curves')\n",
    "svm_test(features, LABELS, C=10, kernel='rbf')"
   ]
  },
  {
   "cell_type": "code",
   "execution_count": null,
   "metadata": {},
   "outputs": [],
   "source": [
    "features = combine_features(\n",
    "    load_feature('chain_codes_and_pairs'),\n",
    "    load_feature('slopes_and_curves'),\n",
    "    load_feature('lbp'),\n",
    "    load_feature('glcm'),\n",
    "    #load_feature('hog'),\n",
    ")\n",
    "\n",
    "svm_test(features, LABELS, C=10, kernel='rbf')"
   ]
  },
  {
   "cell_type": "code",
   "execution_count": null,
   "metadata": {},
   "outputs": [],
   "source": [
    "%%time\n",
    "# Hinge features.\n",
    "cmp_features = []\n",
    "\n",
    "for image_path in map(pre, ALL_IMAGES):\n",
    "    cmp_features.append(hinge(imread(image_path)))\n",
    "\n",
    "save_feature('hinge', cmp_features)"
   ]
  },
  {
   "cell_type": "code",
   "execution_count": null,
   "metadata": {},
   "outputs": [],
   "source": [
    "features = load_feature('hinge')\n",
    "svm_test(features, LABELS, C=10, kernel='rbf')"
   ]
  },
  {
   "cell_type": "code",
   "execution_count": null,
   "metadata": {},
   "outputs": [],
   "source": [
    "%%time\n",
    "# COLD features.\n",
    "cmp_features = []\n",
    "import time\n",
    "for image_path in map(pre, ALL_IMAGES):\n",
    "    s = time.time()\n",
    "    cmp_features.append(cold(imread(image_path), max_cnts=1000))\n",
    "    # print(f'took {time.time() - s}')\n",
    "\n",
    "save_feature('cold', cmp_features)"
   ]
  },
  {
   "cell_type": "code",
   "execution_count": null,
   "metadata": {},
   "outputs": [],
   "source": [
    "features = load_feature('cold')\n",
    "svm_test(features, LABELS, C=10, kernel='rbf', times=100)"
   ]
  },
  {
   "cell_type": "markdown",
   "metadata": {},
   "source": [
    "# Learning"
   ]
  },
  {
   "cell_type": "code",
   "execution_count": 3,
   "metadata": {},
   "outputs": [],
   "source": [
    "from features import FEATURES\n",
    "\n",
    "import pickle\n",
    "import sklearn.ensemble\n",
    "from sklearn.svm import SVC\n",
    "from sklearn.tree import DecisionTreeClassifier\n",
    "from sklearn.neural_network import MLPClassifier\n",
    "from sklearn.neighbors import KNeighborsClassifier\n",
    "from sklearn.ensemble import RandomForestClassifier, AdaBoostClassifier, BaggingClassifier, StackingClassifier, VotingClassifier\n",
    "\n",
    "\n",
    "\n",
    "class SVM(SVC):\n",
    "    pass\n",
    "\n",
    "\n",
    "class RFC(RandomForestClassifier):\n",
    "    pass\n",
    "\n",
    "\n",
    "class DTC(DecisionTreeClassifier):\n",
    "    pass\n",
    "\n",
    "\n",
    "class ANN(MLPClassifier):\n",
    "    pass\n",
    "\n",
    "\n",
    "class KNN(KNeighborsClassifier):\n",
    "    pass\n",
    "\n",
    "\n",
    "class GenderClassifier(sklearn.ensemble.AdaBoostClassifier):\n",
    "    def __init__(self,):\n",
    "        pass\n",
    "\n",
    "    def predict(self, features: dict) -> int:\n",
    "        assert all(feature_name in FEATURES\n",
    "                   for feature_name in features.keys()), \"Encountered an unknown feature!\"\n",
    "        return super().predict(features)\n",
    "\n",
    "    def pickle(self, file_name='classifier.pkl'):\n",
    "        with open(file_name, 'wb') as clf_file:\n",
    "            pickle.dump(self, clf_file)\n"
   ]
  },
  {
   "cell_type": "code",
   "execution_count": null,
   "metadata": {},
   "outputs": [
    {
     "name": "stdout",
     "output_type": "stream",
     "text": [
      "****************************************************************** [66.67%]                                                                                                                                                                                                                                                                                                                                                                                                                                                                                                                                                                                                                                                                                                                                                                                                                                                                                                                                                                                                                                        \r"
     ]
    }
   ],
   "source": [
    "svm = SVM(kernel='rbf', C=10, probability=True)\n",
    "rfc = RFC()\n",
    "ann = ANN(**{\n",
    "    'solver': 'lbfgs',\n",
    "    'hidden_layer_sizes': (30,),\n",
    "    'max_iter': 10000,\n",
    "})\n",
    "knn = KNN()\n",
    "clfs = [('svm', svm),\n",
    "        ('ann', ann),\n",
    "        ('rfc', rfc),\n",
    "        ('knn', knn)]\n",
    "stk = StackingClassifier(clfs)# max_samples=0.75, max_features=0.90)\n",
    "c_test(load_feature('hinge'), LABELS, stk, count=3)\n",
    "c_test(load_feature('hinge'), LABELS, svm)"
   ]
  },
  {
   "cell_type": "code",
   "execution_count": null,
   "metadata": {},
   "outputs": [],
   "source": [
    "FEATURES = {\n",
    "  'lbp',\n",
    "  #'hog',\n",
    "  'glcm',\n",
    "  #'cold',\n",
    "  'hinge',\n",
    "  'slopes_and_curves',\n",
    "  'chain_codes_and_pairs',\n",
    "}\n",
    "\n",
    "chain_features = combine_features(\n",
    "    load_feature('slopes_and_curves'),\n",
    "    load_feature('chain_codes_and_pairs'),\n",
    ")\n",
    "\n",
    "ann_kwargs = {\n",
    "    'solver': 'lbfgs',\n",
    "    'hidden_layer_sizes': (30,),\n",
    "    'max_iter': 10000,\n",
    "}\n",
    "c_test(chain_features, LABELS, ANN(**ann_kwargs))"
   ]
  },
  {
   "cell_type": "code",
   "execution_count": null,
   "metadata": {},
   "outputs": [],
   "source": []
  }
 ],
 "metadata": {
  "kernelspec": {
   "display_name": "Python 3",
   "language": "python",
   "name": "python3"
  },
  "language_info": {
   "codemirror_mode": {
    "name": "ipython",
    "version": 3
   },
   "file_extension": ".py",
   "mimetype": "text/x-python",
   "name": "python",
   "nbconvert_exporter": "python",
   "pygments_lexer": "ipython3",
   "version": "3.7.4"
  }
 },
 "nbformat": 4,
 "nbformat_minor": 4
}
